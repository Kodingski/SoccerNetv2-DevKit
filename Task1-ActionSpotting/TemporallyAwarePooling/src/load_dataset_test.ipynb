{
 "cells": [
  {
   "cell_type": "code",
   "execution_count": 23,
   "id": "cc1c115e",
   "metadata": {
    "lines_to_next_cell": 0
   },
   "outputs": [
    {
     "data": {
      "text/plain": [
       "'\\nCreated on Tue Mar 29 12:23:08 2022\\n\\n@author: timsc\\n'"
      ]
     },
     "execution_count": 23,
     "metadata": {},
     "output_type": "execute_result"
    }
   ],
   "source": [
    "\"\"\"\n",
    "Created on Tue Mar 29 12:23:08 2022\n",
    "\n",
    "@author: timsc\n",
    "\"\"\""
   ]
  },
  {
   "cell_type": "code",
   "execution_count": 1,
   "id": "88c78a85",
   "metadata": {
    "scrolled": true
   },
   "outputs": [
    {
     "name": "stderr",
     "output_type": "stream",
     "text": [
      "/home/ec2-user/SageMaker/.persisted_conda/SoccerNetv2-AdvancedPooling/lib/python3.8/site-packages/tqdm/auto.py:22: TqdmWarning: IProgress not found. Please update jupyter and ipywidgets. See https://ipywidgets.readthedocs.io/en/stable/user_install.html\n",
      "  from .autonotebook import tqdm as notebook_tqdm\n"
     ]
    }
   ],
   "source": [
    "from torch.utils.data import Dataset\n",
    "\n",
    "import numpy as np\n",
    "import random\n",
    "import os\n",
    "import time\n",
    "\n",
    "\n",
    "from tqdm import tqdm\n",
    "\n",
    "import torch\n",
    "\n",
    "import logging\n",
    "import json\n",
    "\n",
    "from SoccerNet.Downloader import getListGames\n",
    "from SoccerNet.Downloader import SoccerNetDownloader\n",
    "from SoccerNet.Evaluation.utils import AverageMeter, EVENT_DICTIONARY_V2, INVERSE_EVENT_DICTIONARY_V2\n",
    "from SoccerNet.Evaluation.utils import EVENT_DICTIONARY_V1, INVERSE_EVENT_DICTIONARY_V1"
   ]
  },
  {
   "cell_type": "code",
   "execution_count": 2,
   "id": "88ca860f",
   "metadata": {},
   "outputs": [],
   "source": [
    "os.chdir('/home/ec2-user/SageMaker/sts-stats-dev-match-facts-notebook-code-repository/SoccerNetv2-DevKit')"
   ]
  },
  {
   "cell_type": "code",
   "execution_count": 3,
   "id": "512013ae",
   "metadata": {
    "scrolled": true
   },
   "outputs": [
    {
     "data": {
      "text/plain": [
       "'/home/ec2-user/SageMaker/sts-stats-dev-match-facts-notebook-code-repository/SoccerNetv2-DevKit'"
      ]
     },
     "execution_count": 3,
     "metadata": {},
     "output_type": "execute_result"
    }
   ],
   "source": [
    "os.getcwd()"
   ]
  },
  {
   "cell_type": "code",
   "execution_count": 4,
   "id": "c8054714",
   "metadata": {},
   "outputs": [],
   "source": [
    "#helpers\n",
    "\n",
    "def feats2clip(feats, stride, clip_length, padding = \"replicate_last\", off=0):\n",
    "    if padding ==\"zeropad\":\n",
    "        print(\"beforepadding\", feats.shape)\n",
    "        pad = feats.shape[0] - int(feats.shape[0]/stride)*stride\n",
    "        print(\"pad need to be\", clip_length-pad)\n",
    "        m = torch.nn.ZeroPad2d((0, 0, clip_length-pad, 0))\n",
    "        feats = m(feats)\n",
    "        print(\"afterpadding\", feats.shape)\n",
    "        # nn.ZeroPad2d(2)\n",
    "\n",
    "    idx = torch.arange(start=0, end=feats.shape[0]-1, step=stride)\n",
    "    idxs = []\n",
    "    for i in torch.arange(-off, clip_length-off):\n",
    "        idxs.append(idx+i)\n",
    "    idx = torch.stack(idxs, dim=1)\n",
    "\n",
    "    if padding==\"replicate_last\":\n",
    "        idx = idx.clamp(0, feats.shape[0]-1)\n",
    "        print(idx)\n",
    "    # print(idx)\n",
    "    return feats[idx,...]"
   ]
  },
  {
   "cell_type": "code",
   "execution_count": 15,
   "id": "cc5a921f",
   "metadata": {
    "lines_to_next_cell": 2,
    "title": "set to Sportec parameters"
   },
   "outputs": [],
   "source": [
    "window_size = 2.5\n",
    "framerate = 10\n",
    "window_size_frame = int(window_size*framerate)\n",
    "num_classes = 4"
   ]
  },
  {
   "cell_type": "code",
   "execution_count": 16,
   "id": "fd72f34e",
   "metadata": {},
   "outputs": [],
   "source": [
    "path_features = 'Data/features/SF_02ST_B04_BMG_snippets_features.npy'"
   ]
  },
  {
   "cell_type": "code",
   "execution_count": 17,
   "id": "a37ad098",
   "metadata": {},
   "outputs": [],
   "source": [
    "path_json = \"Data/labels/SF_02ST_B04_BMG_labels.json\""
   ]
  },
  {
   "cell_type": "code",
   "execution_count": 18,
   "id": "fb2a7c76",
   "metadata": {
    "lines_to_next_cell": 2,
    "scrolled": true
   },
   "outputs": [],
   "source": [
    "feat_game = np.load(path_features)\n",
    "feat_game = feat_game.reshape(-1, feat_game.shape[-1])\n",
    "\n"
   ]
  },
  {
   "cell_type": "code",
   "execution_count": 19,
   "id": "b8daa051",
   "metadata": {},
   "outputs": [
    {
     "data": {
      "text/plain": [
       "(26700, 2048)"
      ]
     },
     "execution_count": 19,
     "metadata": {},
     "output_type": "execute_result"
    }
   ],
   "source": [
    "feat_game.shape"
   ]
  },
  {
   "cell_type": "code",
   "execution_count": 11,
   "id": "d8a7eb22",
   "metadata": {
    "lines_to_next_cell": 2
   },
   "outputs": [
    {
     "name": "stdout",
     "output_type": "stream",
     "text": [
      "tensor([[    0,     1,     2,     3,     4],\n",
      "        [    5,     6,     7,     8,     9],\n",
      "        [   10,    11,    12,    13,    14],\n",
      "        ...,\n",
      "        [26685, 26686, 26687, 26688, 26689],\n",
      "        [26690, 26691, 26692, 26693, 26694],\n",
      "        [26695, 26696, 26697, 26698, 26699]])\n"
     ]
    }
   ],
   "source": [
    "#feat_half2 = np.load(os.path.join(self.path, game, \"2_\" + self.features))\n",
    "#feat_half2 = feat_half2.reshape(-1, feat_half2.shape[-1])\n",
    "\n",
    "feat_game_sts = feats2clip(torch.from_numpy(feat_game), stride=window_size_frame, clip_length=window_size_frame)\n",
    "#feat_soccernet_torch = feats2clip(torch.from_numpy(feat_soccernet), stride=window_size_frame_soccernet, clip_length=window_size_frame_soccernet)\n",
    "\n",
    "\n",
    "#feat_half2 = feats2clip(torch.from_numpy(feat_half2), stride=self.window_size_frame, clip_length=self.window_size_frame)"
   ]
  },
  {
   "cell_type": "code",
   "execution_count": 20,
   "id": "fcefa069",
   "metadata": {},
   "outputs": [],
   "source": [
    "#load sportec lables\n",
    "labels_sts = json.load(open(path_json))\n",
    "\n",
    "\n",
    "##next: Recreate their one hot encoding on sportec data\n",
    "dict_event_sts = {'None':0, 'Play':1, 'TacklingGame':2, 'Throw-in':3}\n",
    "\n",
    "num_classes = len(dict_event_sts)\n",
    "game_labels = np.zeros((len(labels_sts['annotations']), num_classes))\n",
    "\n",
    "\n",
    "for annotation in labels_sts[\"annotations\"]:\n",
    "\n",
    "    snippet_id = annotation['id']\n",
    "    end_time = annotation[\"end\"]\n",
    "    event_timestamp = annotation[\"timestep\"]\n",
    "    #frame = framerate * ( seconds + 60 * minutes ) \n",
    "    \n",
    "    event_type = annotation['type']\n",
    "    label = dict_event_sts[event_type]\n",
    "\n",
    "    game_labels[snippet_id,label] = 1 # that's my class\n",
    "\n",
    "\n",
    "#do it with sportec labels"
   ]
  },
  {
   "cell_type": "code",
   "execution_count": 22,
   "id": "19adc773",
   "metadata": {
    "scrolled": true
   },
   "outputs": [
    {
     "data": {
      "text/plain": [
       "(1068, 4)"
      ]
     },
     "execution_count": 22,
     "metadata": {},
     "output_type": "execute_result"
    }
   ],
   "source": [
    "game_labels.shape"
   ]
  },
  {
   "cell_type": "code",
   "execution_count": 25,
   "id": "c7aef3ad",
   "metadata": {},
   "outputs": [
    {
     "data": {
      "text/plain": [
       "array([[1., 0., 0., 0.],\n",
       "       [0., 1., 0., 0.],\n",
       "       [0., 1., 0., 0.],\n",
       "       [0., 1., 0., 0.],\n",
       "       [0., 0., 0., 1.],\n",
       "       [0., 1., 0., 0.],\n",
       "       [0., 1., 0., 0.],\n",
       "       [1., 0., 0., 0.],\n",
       "       [0., 1., 0., 0.],\n",
       "       [0., 1., 0., 0.]])"
      ]
     },
     "execution_count": 25,
     "metadata": {},
     "output_type": "execute_result"
    }
   ],
   "source": [
    "game_labels[0:10]"
   ]
  },
  {
   "cell_type": "code",
   "execution_count": null,
   "id": "fa55b127",
   "metadata": {},
   "outputs": [],
   "source": [
    "#load their features to compare\n",
    "feat_soccernet = np.load(r'england_epl\\2014-2015\\2015-02-21 - 18-00 Crystal Palace 1 - 2 Arsenal\\1_ResNET_TF2.npy')\n",
    "\n",
    "window_size_soccernet = 15\n",
    "framerate_soccernet = 2\n",
    "window_size_frame_soccernet = window_size_soccernet*framerate_soccernet"
   ]
  },
  {
   "cell_type": "code",
   "execution_count": null,
   "id": "ed12eb1a",
   "metadata": {
    "lines_to_next_cell": 0
   },
   "outputs": [],
   "source": [
    "feat_soccernet_head = feat_soccernet[0:100,:]"
   ]
  },
  {
   "cell_type": "code",
   "execution_count": null,
   "id": "4612c558",
   "metadata": {},
   "outputs": [],
   "source": [
    "# Load soccernet labels\n",
    "labels_soccernet = json.load(open(r'england_epl\\2014-2015\\2015-02-21 - 18-00 Crystal Palace 1 - 2 Arsenal\\Labels-v2.json'))\n",
    "\n",
    "#recreate soccernet labels \n",
    "version = 2\n",
    "dict_event = EVENT_DICTIONARY_V2\n",
    "game_labels = []\n",
    "num_classes = len(dict_event)\n",
    "\n",
    "label_half1 = np.zeros((feat_game.shape[0], num_classes+1))\n",
    "label_half1[:,0]=1 # those are BG classes\n",
    "label_half2 = np.zeros((feat_game.shape[0], num_classes+1))\n",
    "label_half2[:,0]=1 # those are BG classes\n",
    "\n",
    "\n",
    "for annotation in labels_soccernet[\"annotations\"]:\n",
    "\n",
    "    time = annotation[\"gameTime\"]\n",
    "    event = annotation[\"label\"]\n",
    "\n",
    "    half = int(time[0])\n",
    "\n",
    "    minutes = int(time[-5:-3])\n",
    "    seconds = int(time[-2::])\n",
    "    frame = framerate * ( seconds + 60 * minutes ) \n",
    "\n",
    "    if version == 1:\n",
    "        if \"card\" in event: label = 0\n",
    "        elif \"subs\" in event: label = 1\n",
    "        elif \"soccer\" in event: label = 2\n",
    "        else: continue\n",
    "    elif version == 2:\n",
    "        if event not in dict_event:\n",
    "            continue\n",
    "        label = dict_event[event]\n",
    "\n",
    "    # if label outside temporal of view\n",
    "    if half == 1 and frame//window_size_frame>=label_half1.shape[0]:\n",
    "        continue\n",
    "    if half == 2 and frame//window_size_frame>=label_half2.shape[0]:\n",
    "        continue\n",
    "\n",
    "    if half == 1:\n",
    "        label_half1[frame//window_size_frame][0] = 0 # not BG anymore\n",
    "        label_half1[frame//window_size_frame][label+1] = 1 # that's my class\n",
    "\n",
    "    if half == 2:\n",
    "        label_half2[frame//window_size_frame][0] = 0 # not BG anymore\n",
    "        label_half2[frame//window_size_frame][label+1] = 1 # that's my class\n",
    "\n",
    "#self.game_feats.append(feat_half2)\n",
    "game_labels.append(label_half1)\n",
    "game_labels.append(label_half2)\n",
    "#self.game_labels.append(label_half2)\n",
    "\n",
    "game_labels = np.concatenate(game_labels)"
   ]
  }
 ],
 "metadata": {
  "jupytext": {
   "cell_metadata_filter": "title,-all",
   "encoding": "# -*- coding: utf-8 -*-",
   "main_language": "python",
   "notebook_metadata_filter": "-all"
  },
  "kernelspec": {
   "display_name": "conda_soccernetv2-advancedpooling",
   "language": "python",
   "name": "conda_soccernetv2-advancedpooling"
  },
  "language_info": {
   "codemirror_mode": {
    "name": "ipython",
    "version": 3
   },
   "file_extension": ".py",
   "mimetype": "text/x-python",
   "name": "python",
   "nbconvert_exporter": "python",
   "pygments_lexer": "ipython3",
   "version": "3.8.13"
  }
 },
 "nbformat": 4,
 "nbformat_minor": 5
}
